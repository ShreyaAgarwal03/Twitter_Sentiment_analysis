{
 "cells": [
  {
   "cell_type": "code",
   "execution_count": 1,
   "metadata": {},
   "outputs": [
    {
     "name": "stdout",
     "output_type": "stream",
     "text": [
      "Done\n"
     ]
    }
   ],
   "source": [
    "import pandas as pd\n",
    "import matplotlib.pyplot as plt\n",
    "from nltk.stem import WordNetLemmatizer\n",
    "from collections import Counter\n",
    "import datetime\n",
    "print 'Done'"
   ]
  },
  {
   "cell_type": "code",
   "execution_count": null,
   "metadata": {
    "collapsed": true
   },
   "outputs": [],
   "source": [
    "import json\n",
    "import pandas\n",
    "\n",
    "#Function to read Tweets\n",
    "def readTweets(path):\n",
    "    data = open(path)\n",
    "    itemlist = []\n",
    "    for line in data:\n",
    "        item = json.loads(line)\n",
    "        itemlist.append(item)\n",
    "    return itemlist\n",
    "\n",
    "def createDF(TweetList):\n",
    "    df = pandas.DataFrame(data=TweetList)\n",
    "    return df\n",
    "\n",
    "def colTypeViewer(df):\n",
    "    rowManager = 0\n",
    "    for key in df.columns.values:\n",
    "        print key, str(type(df[key][0]))\n",
    "        rowManager+=1\n",
    "        if rowManager == 2:\n",
    "            rowManager = 0\n",
    "            print('')"
   ]
  },
  {
   "cell_type": "code",
   "execution_count": null,
   "metadata": {
    "collapsed": true
   },
   "outputs": [],
   "source": [
    "iPhoneTweets = createDF(readTweets('Before - iPhoneX_Tweets.json'))\n",
    "\n",
    "print('Dataset Dimensions:')\n",
    "print('\\tNumber of Keys (Columns): ' + str(iPhoneTweets.shape[0]))\n",
    "print('\\tNumber of Entries (Rows): ' + str(iPhoneTweets.shape[1]))"
   ]
  },
  {
   "cell_type": "code",
   "execution_count": null,
   "metadata": {
    "collapsed": true
   },
   "outputs": [],
   "source": [
    "iPhoneTweets.head()"
   ]
  },
  {
   "cell_type": "code",
   "execution_count": null,
   "metadata": {
    "collapsed": true
   },
   "outputs": [],
   "source": [
    "# Extracting data from Tweet Dataset\n",
    "tweetText = createDF(iPhoneTweets['text'])\n",
    "#print('Rows: ' + str(tweetTimes.shape[0]))\n",
    "#print('Columns: ' + str(tweetTimes.shape[1]))\n",
    "tweetText.text.head(10)"
   ]
  },
  {
   "cell_type": "code",
   "execution_count": null,
   "metadata": {
    "collapsed": true
   },
   "outputs": [],
   "source": [
    "#python -m pip install wordcloud -in terminal\n",
    "import nltk\n",
    "from nltk.corpus import stopwords\n",
    "valid_words = set(nltk.corpus.words.words())"
   ]
  },
  {
   "cell_type": "code",
   "execution_count": null,
   "metadata": {
    "collapsed": true
   },
   "outputs": [],
   "source": [
    "def clean_tweet(data):\n",
    "    cleaned_word = [x.encode('UTF8') for x in data] \n",
    "    cleaned_word = nltk.word_tokenize(str(cleaned_word))\n",
    "    cleaned_word = [x for x in cleaned_word if len(x)>1]\n",
    "    cleaned_word = [x for x in cleaned_word if x not in stopwords.words('english')]\n",
    "    cleaned_word = [x for x in cleaned_word if x in valid_words]\n",
    "    cleaned_word = [str.lower(i) for i in cleaned_word ]\n",
    "    #print cleaned_word\n",
    "    return cleaned_word"
   ]
  },
  {
   "cell_type": "code",
   "execution_count": null,
   "metadata": {
    "collapsed": true
   },
   "outputs": [],
   "source": [
    "clean_tweet = clean_tweet(tweetText.text)\n",
    "clean_df = createDF(clean_tweet)\n",
    "clean_df.head()"
   ]
  },
  {
   "cell_type": "code",
   "execution_count": null,
   "metadata": {
    "collapsed": true
   },
   "outputs": [],
   "source": [
    "#clean_df.to_csv('clean_tweet_words.csv', encoding='utf-8')\n",
    "top_words  = createDF(clean_df.apply(lambda x: x.str.split(expand=True).stack()).stack().value_counts())\n",
    "top_words = top_words.reset_index()\n",
    "top_words.columns = ['word','count']\n",
    "top_words.head()"
   ]
  },
  {
   "cell_type": "code",
   "execution_count": null,
   "metadata": {
    "collapsed": true
   },
   "outputs": [],
   "source": [
    "top_df = top_words.sort_values('count', ascending=False)\n",
    "top_df = top_df.head(15)\n",
    "top_df"
   ]
  },
  {
   "cell_type": "code",
   "execution_count": null,
   "metadata": {
    "collapsed": true
   },
   "outputs": [],
   "source": [
    "import pandas as pd\n",
    "import seaborn as sns\n",
    "\n",
    "fig, ax = plt.subplots()\n",
    "fig.set_size_inches(15, 5)\n",
    "sns.barplot(x = 'word', y = 'count', data = top_df)\n",
    "plt.show()\n",
    "fig.savefig('top_words_before_launch.png')"
   ]
  },
  {
   "cell_type": "code",
   "execution_count": 62,
   "metadata": {},
   "outputs": [
    {
     "name": "stdout",
     "output_type": "stream",
     "text": [
      "All frequencies, including STOPWORDS:\n",
      "============================================================\n",
      "                         Word  Frequency\n",
      "0  (coincidence, coincidence)       2638\n",
      "1                (order, new)       1511\n",
      "2          (trying, preorder)       1461\n",
      "3             (preorder, new)       1418\n",
      "4         (present, stickers)       1307\n",
      "5          (stickers, belong)       1307\n",
      "6                 (sell, car)       1286\n",
      "7                (car, house)       1286\n",
      "8           (house, whatever)       1279\n",
      "9                (one, first)        919\n",
      "============================================================\n"
     ]
    },
    {
     "data": {
      "image/png": "[encoded data removed]",
      "text/plain": [
       "<matplotlib.figure.Figure at 0x727d0940>"
      ]
     },
     "metadata": {},
     "output_type": "display_data"
    }
   ],
   "source": [
    "bgs2 = nltk.bigrams(clean_tweet)\n",
    "\n",
    "# compute frequency distribution for all the bigrams \n",
    "fdist2 = nltk.FreqDist(bgs2)\n",
    "\n",
    "rslt2 = pd.DataFrame(Counter(fdist2).most_common(10),columns=['Word', 'Frequency'])\n",
    "print('All frequencies, including STOPWORDS:')\n",
    "print('=' * 60)\n",
    "print(rslt2)\n",
    "print('=' * 60)\n",
    "\n",
    "\n",
    "fig, ax = plt.subplots()\n",
    "fig.set_size_inches(15, 5)\n",
    "sns.barplot(x = 'Word', y = 'Frequency', data = rslt2)\n",
    "plt.xticks(rotation= 90)\n",
    "plt.show()\n",
    "fig.savefig('bigram_before_launch.png',bbox_inches = 'tight')"
   ]
  }
 ],
 "metadata": {
  "kernelspec": {
   "display_name": "Python 2",
   "language": "python",
   "name": "python2"
  },
  "language_info": {
   "codemirror_mode": {
    "name": "ipython",
    "version": 2
   },
   "file_extension": ".py",
   "mimetype": "text/x-python",
   "name": "python",
   "nbconvert_exporter": "python",
   "pygments_lexer": "ipython2",
   "version": "2.7.14"
  }
 },
 "nbformat": 4,
 "nbformat_minor": 2
}
