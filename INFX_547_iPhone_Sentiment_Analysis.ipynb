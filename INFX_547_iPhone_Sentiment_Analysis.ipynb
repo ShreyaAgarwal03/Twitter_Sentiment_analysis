{
 "cells": [
  {
   "cell_type": "markdown",
   "metadata": {},
   "source": [
    "# iPhoneX Twitter Data Exploratory Analysis\n",
    "\n",
    "These are tweets collected from the Tweepy API for occurences of the therm 'iPhoneX' in tweets."
   ]
  },
  {
   "cell_type": "code",
   "execution_count": 1,
   "metadata": {},
   "outputs": [
    {
     "name": "stderr",
     "output_type": "stream",
     "text": [
      "/Users/timothypace/anaconda/lib/python3.6/site-packages/nltk/twitter/__init__.py:20: UserWarning: The twython library has not been installed. Some functionality from the twitter package will not be available.\n",
      "  warnings.warn(\"The twython library has not been installed. \"\n"
     ]
    }
   ],
   "source": [
    "# Import dependencies\n",
    "import pandas\n",
    "import functionality as func\n",
    "import datetime\n",
    "import numpy as np\n",
    "from sklearn import preprocessing\n",
    "from scipy import stats\n",
    "from scipy.stats import chisquare\n",
    "from nltk.sentiment.vader import SentimentIntensityAnalyzer\n",
    "from langdetect import detect\n",
    "from sklearn.preprocessing import Imputer\n",
    "from datetime import datetime\n",
    "import re\n"
   ]
  },
  {
   "cell_type": "markdown",
   "metadata": {},
   "source": [
    "### Loading the data"
   ]
  },
  {
   "cell_type": "code",
   "execution_count": 2,
   "metadata": {},
   "outputs": [
    {
     "name": "stdout",
     "output_type": "stream",
     "text": [
      "Before Dimensions:\n",
      "\tNumber of Keys (Columns): 182509\n",
      "\tNumber of Entries (Rows): 10\n",
      "After Dimensions:\n",
      "\tNumber of Keys (Columns): 232341\n",
      "\tNumber of Entries (Rows): 12\n"
     ]
    }
   ],
   "source": [
    "iPhoneTweetsBefore = pandas.read_csv('iPhoneX_Old.csv')\n",
    "print('Before Dimensions:')\n",
    "print('\\tNumber of Keys (Columns): ' + str(iPhoneTweetsBefore.shape[0]))\n",
    "print('\\tNumber of Entries (Rows): ' + str(iPhoneTweetsBefore.shape[1]))\n",
    "\n",
    "iPhoneTweetsAfter = pandas.read_csv('iPhoneX_Bet.csv')\n",
    "iPhoneTweetsAfter2 = pandas.read_csv('iPhoneX_New.csv')\n",
    "\n",
    "iPhoneTweetsAfter = pandas.concat([iPhoneTweetsAfter, iPhoneTweetsAfter2])\n",
    "\n",
    "print('After Dimensions:')\n",
    "print('\\tNumber of Keys (Columns): ' + str(iPhoneTweetsAfter.shape[0]))\n",
    "print('\\tNumber of Entries (Rows): ' + str(iPhoneTweetsAfter.shape[1]))"
   ]
  },
  {
   "cell_type": "markdown",
   "metadata": {},
   "source": [
    "### Dataset Statistics"
   ]
  },
  {
   "cell_type": "code",
   "execution_count": 3,
   "metadata": {},
   "outputs": [
    {
     "data": {
      "text/html": [
       "<div>\n",
       "<style>\n",
       "    .dataframe thead tr:only-child th {\n",
       "        text-align: right;\n",
       "    }\n",
       "\n",
       "    .dataframe thead th {\n",
       "        text-align: left;\n",
       "    }\n",
       "\n",
       "    .dataframe tbody tr th {\n",
       "        vertical-align: top;\n",
       "    }\n",
       "</style>\n",
       "<table border=\"1\" class=\"dataframe\">\n",
       "  <thead>\n",
       "    <tr style=\"text-align: right;\">\n",
       "      <th></th>\n",
       "      <th>Unnamed: 0</th>\n",
       "      <th>date</th>\n",
       "      <th>favorites</th>\n",
       "      <th>geo</th>\n",
       "      <th>hashtags</th>\n",
       "      <th>id</th>\n",
       "      <th>mentions</th>\n",
       "      <th>retweets</th>\n",
       "      <th>text</th>\n",
       "      <th>username</th>\n",
       "    </tr>\n",
       "  </thead>\n",
       "  <tbody>\n",
       "    <tr>\n",
       "      <th>0</th>\n",
       "      <td>0</td>\n",
       "      <td>2017-11-01 16:59</td>\n",
       "      <td>0</td>\n",
       "      <td>NaN</td>\n",
       "      <td>NaN</td>\n",
       "      <td>\"925875092533284864\"\\r\\n</td>\n",
       "      <td>NaN</td>\n",
       "      <td>0</td>\n",
       "      <td>\"iPhoneX 、iPhone8就像一场行为艺术互相映衬彼此的价值，一个趋向于利润和经营，...</td>\n",
       "      <td>loverty</td>\n",
       "    </tr>\n",
       "    <tr>\n",
       "      <th>1</th>\n",
       "      <td>1</td>\n",
       "      <td>2017-11-01 16:59</td>\n",
       "      <td>0</td>\n",
       "      <td>NaN</td>\n",
       "      <td>NaN</td>\n",
       "      <td>\"925875086741012480\"\\r\\n</td>\n",
       "      <td>NaN</td>\n",
       "      <td>0</td>\n",
       "      <td>\"今日メール来ないと iPhoneX 発売日に買えないじゃん(･_･)ヨドバシさーーーーん(...</td>\n",
       "      <td>bzf502</td>\n",
       "    </tr>\n",
       "    <tr>\n",
       "      <th>2</th>\n",
       "      <td>2</td>\n",
       "      <td>2017-11-01 16:59</td>\n",
       "      <td>0</td>\n",
       "      <td>NaN</td>\n",
       "      <td>NaN</td>\n",
       "      <td>\"925875084228784128\"\\r\\n</td>\n",
       "      <td>NaN</td>\n",
       "      <td>0</td>\n",
       "      <td>\"The iPhone X so damn trash\"</td>\n",
       "      <td>wmjj5</td>\n",
       "    </tr>\n",
       "    <tr>\n",
       "      <th>3</th>\n",
       "      <td>3</td>\n",
       "      <td>2017-11-01 16:59</td>\n",
       "      <td>1</td>\n",
       "      <td>NaN</td>\n",
       "      <td>#iPhoneX #iMacPro #PodernFamily</td>\n",
       "      <td>\"925875084098650112\"\\r\\n</td>\n",
       "      <td>@applesliceau</td>\n",
       "      <td>2</td>\n",
       "      <td>\"Ep 38 @applesliceau - #iPhoneX Pre-order Pani...</td>\n",
       "      <td>applesliceau</td>\n",
       "    </tr>\n",
       "    <tr>\n",
       "      <th>4</th>\n",
       "      <td>4</td>\n",
       "      <td>2017-11-01 16:59</td>\n",
       "      <td>0</td>\n",
       "      <td>NaN</td>\n",
       "      <td>NaN</td>\n",
       "      <td>\"925875074950983680\"\\r\\n</td>\n",
       "      <td>NaN</td>\n",
       "      <td>0</td>\n",
       "      <td>\"Oh stop it was me she was bringing the iphone...</td>\n",
       "      <td>BenRebellious</td>\n",
       "    </tr>\n",
       "  </tbody>\n",
       "</table>\n",
       "</div>"
      ],
      "text/plain": [
       "   Unnamed: 0              date  favorites  geo  \\\n",
       "0           0  2017-11-01 16:59          0  NaN   \n",
       "1           1  2017-11-01 16:59          0  NaN   \n",
       "2           2  2017-11-01 16:59          0  NaN   \n",
       "3           3  2017-11-01 16:59          1  NaN   \n",
       "4           4  2017-11-01 16:59          0  NaN   \n",
       "\n",
       "                          hashtags                        id       mentions  \\\n",
       "0                              NaN  \"925875092533284864\"\\r\\n            NaN   \n",
       "1                              NaN  \"925875086741012480\"\\r\\n            NaN   \n",
       "2                              NaN  \"925875084228784128\"\\r\\n            NaN   \n",
       "3  #iPhoneX #iMacPro #PodernFamily  \"925875084098650112\"\\r\\n  @applesliceau   \n",
       "4                              NaN  \"925875074950983680\"\\r\\n            NaN   \n",
       "\n",
       "   retweets                                               text       username  \n",
       "0         0  \"iPhoneX 、iPhone8就像一场行为艺术互相映衬彼此的价值，一个趋向于利润和经营，...        loverty  \n",
       "1         0  \"今日メール来ないと iPhoneX 発売日に買えないじゃん(･_･)ヨドバシさーーーーん(...         bzf502  \n",
       "2         0                       \"The iPhone X so damn trash\"          wmjj5  \n",
       "3         2  \"Ep 38 @applesliceau - #iPhoneX Pre-order Pani...   applesliceau  \n",
       "4         0  \"Oh stop it was me she was bringing the iphone...  BenRebellious  "
      ]
     },
     "execution_count": 3,
     "metadata": {},
     "output_type": "execute_result"
    }
   ],
   "source": [
    "iPhoneTweetsBefore.head()"
   ]
  },
  {
   "cell_type": "code",
   "execution_count": 4,
   "metadata": {
    "scrolled": true
   },
   "outputs": [
    {
     "data": {
      "text/html": [
       "<div>\n",
       "<style>\n",
       "    .dataframe thead tr:only-child th {\n",
       "        text-align: right;\n",
       "    }\n",
       "\n",
       "    .dataframe thead th {\n",
       "        text-align: left;\n",
       "    }\n",
       "\n",
       "    .dataframe tbody tr th {\n",
       "        vertical-align: top;\n",
       "    }\n",
       "</style>\n",
       "<table border=\"1\" class=\"dataframe\">\n",
       "  <thead>\n",
       "    <tr style=\"text-align: right;\">\n",
       "      <th></th>\n",
       "      <th>0</th>\n",
       "      <th>Unnamed: 0</th>\n",
       "      <th>date</th>\n",
       "      <th>favorites</th>\n",
       "      <th>geo</th>\n",
       "      <th>hashtags</th>\n",
       "      <th>id</th>\n",
       "      <th>id</th>\n",
       "      <th>mentions</th>\n",
       "      <th>retweets</th>\n",
       "      <th>text</th>\n",
       "      <th>username</th>\n",
       "    </tr>\n",
       "  </thead>\n",
       "  <tbody>\n",
       "    <tr>\n",
       "      <th>0</th>\n",
       "      <td>1.0</td>\n",
       "      <td>NaN</td>\n",
       "      <td>2017-11-06 15:59</td>\n",
       "      <td>0</td>\n",
       "      <td>NaN</td>\n",
       "      <td>NaN</td>\n",
       "      <td>NaN</td>\n",
       "      <td>\"927687029952937984\"\\r\\n</td>\n",
       "      <td>NaN</td>\n",
       "      <td>0</td>\n",
       "      <td>\"プラダ アイフォンx/8 プラス 手帳型ケース ブランドPrada iphone x /8...</td>\n",
       "      <td>yuchimaretsujiy</td>\n",
       "    </tr>\n",
       "    <tr>\n",
       "      <th>1</th>\n",
       "      <td>2.0</td>\n",
       "      <td>NaN</td>\n",
       "      <td>2017-11-06 15:59</td>\n",
       "      <td>0</td>\n",
       "      <td>NaN</td>\n",
       "      <td>NaN</td>\n",
       "      <td>NaN</td>\n",
       "      <td>\"927687028984156161\"\\r\\n</td>\n",
       "      <td>NaN</td>\n",
       "      <td>0</td>\n",
       "      <td>\"★Winning An iPhone X From The Arcade Claw Mac...</td>\n",
       "      <td>NatsuSinging1</td>\n",
       "    </tr>\n",
       "    <tr>\n",
       "      <th>2</th>\n",
       "      <td>3.0</td>\n",
       "      <td>NaN</td>\n",
       "      <td>2017-11-06 15:59</td>\n",
       "      <td>0</td>\n",
       "      <td>NaN</td>\n",
       "      <td>#iPhoneXfree</td>\n",
       "      <td>NaN</td>\n",
       "      <td>\"927687027130109952\"\\r\\n</td>\n",
       "      <td>NaN</td>\n",
       "      <td>0</td>\n",
       "      <td>\"Me voy a llevar un iPhone X GRATIS a casa #iP...</td>\n",
       "      <td>AngelPe16777328</td>\n",
       "    </tr>\n",
       "    <tr>\n",
       "      <th>3</th>\n",
       "      <td>4.0</td>\n",
       "      <td>NaN</td>\n",
       "      <td>2017-11-06 15:59</td>\n",
       "      <td>0</td>\n",
       "      <td>NaN</td>\n",
       "      <td>#iPhoneXfree</td>\n",
       "      <td>NaN</td>\n",
       "      <td>\"927687024051499010\"\\r\\n</td>\n",
       "      <td>NaN</td>\n",
       "      <td>0</td>\n",
       "      <td>\"Me voy a llevar un iPhone X GRATIS a casa #iP...</td>\n",
       "      <td>Eduardo17017953</td>\n",
       "    </tr>\n",
       "    <tr>\n",
       "      <th>4</th>\n",
       "      <td>5.0</td>\n",
       "      <td>NaN</td>\n",
       "      <td>2017-11-06 15:59</td>\n",
       "      <td>0</td>\n",
       "      <td>NaN</td>\n",
       "      <td>#iPhoneXfree</td>\n",
       "      <td>NaN</td>\n",
       "      <td>\"927687021140652032\"\\r\\n</td>\n",
       "      <td>NaN</td>\n",
       "      <td>0</td>\n",
       "      <td>\"Me voy a llevar un iPhone X GRATIS a casa #iP...</td>\n",
       "      <td>gabofragma</td>\n",
       "    </tr>\n",
       "  </tbody>\n",
       "</table>\n",
       "</div>"
      ],
      "text/plain": [
       "     0  Unnamed: 0              date  favorites  geo      hashtags   id  \\\n",
       "0  1.0         NaN  2017-11-06 15:59          0  NaN           NaN  NaN   \n",
       "1  2.0         NaN  2017-11-06 15:59          0  NaN           NaN  NaN   \n",
       "2  3.0         NaN  2017-11-06 15:59          0  NaN  #iPhoneXfree  NaN   \n",
       "3  4.0         NaN  2017-11-06 15:59          0  NaN  #iPhoneXfree  NaN   \n",
       "4  5.0         NaN  2017-11-06 15:59          0  NaN  #iPhoneXfree  NaN   \n",
       "\n",
       "                     id\\r\\n mentions  retweets  \\\n",
       "0  \"927687029952937984\"\\r\\n      NaN         0   \n",
       "1  \"927687028984156161\"\\r\\n      NaN         0   \n",
       "2  \"927687027130109952\"\\r\\n      NaN         0   \n",
       "3  \"927687024051499010\"\\r\\n      NaN         0   \n",
       "4  \"927687021140652032\"\\r\\n      NaN         0   \n",
       "\n",
       "                                                text         username  \n",
       "0  \"プラダ アイフォンx/8 プラス 手帳型ケース ブランドPrada iphone x /8...  yuchimaretsujiy  \n",
       "1  \"★Winning An iPhone X From The Arcade Claw Mac...    NatsuSinging1  \n",
       "2  \"Me voy a llevar un iPhone X GRATIS a casa #iP...  AngelPe16777328  \n",
       "3  \"Me voy a llevar un iPhone X GRATIS a casa #iP...  Eduardo17017953  \n",
       "4  \"Me voy a llevar un iPhone X GRATIS a casa #iP...       gabofragma  "
      ]
     },
     "execution_count": 4,
     "metadata": {},
     "output_type": "execute_result"
    }
   ],
   "source": [
    "iPhoneTweetsAfter.head()"
   ]
  },
  {
   "cell_type": "code",
   "execution_count": 5,
   "metadata": {
    "collapsed": true
   },
   "outputs": [],
   "source": [
    "def getDate(row) : \n",
    "    date = row['date'].split(\" \")\n",
    "    return(str(date[0]))"
   ]
  },
  {
   "cell_type": "code",
   "execution_count": 6,
   "metadata": {},
   "outputs": [
    {
     "data": {
      "text/plain": [
       "array(['2017-11-01', '2017-10-31', '2017-10-30', '2017-10-29', '2017-10-28'], dtype=object)"
      ]
     },
     "execution_count": 6,
     "metadata": {},
     "output_type": "execute_result"
    }
   ],
   "source": [
    "iPhoneTweetsBefore['dates'] = iPhoneTweetsBefore.apply (lambda row: getDate (row), axis=1)\n",
    "iPhoneTweetsBefore['dates'].unique()"
   ]
  },
  {
   "cell_type": "code",
   "execution_count": 7,
   "metadata": {},
   "outputs": [
    {
     "data": {
      "text/plain": [
       "array(['2017-11-06', '2017-11-05', '2017-11-04', '2017-11-09', '2017-11-08'], dtype=object)"
      ]
     },
     "execution_count": 7,
     "metadata": {},
     "output_type": "execute_result"
    }
   ],
   "source": [
    "iPhoneTweetsAfter['dates'] = iPhoneTweetsAfter.apply (lambda row: getDate (row), axis=1)\n",
    "iPhoneTweetsAfter['dates'].unique()"
   ]
  },
  {
   "cell_type": "code",
   "execution_count": 8,
   "metadata": {
    "collapsed": true
   },
   "outputs": [],
   "source": [
    "def getLang(row) :\n",
    "    en = False\n",
    "    if row['text'] != np.NaN or row['text'] != None :\n",
    "        tweetText = row['text']\n",
    "        try :\n",
    "            language = detect(tweetText)      \n",
    "            if language == 'en' :\n",
    "                en = True\n",
    "        except :\n",
    "            pass\n",
    "    return(en)"
   ]
  },
  {
   "cell_type": "code",
   "execution_count": 9,
   "metadata": {},
   "outputs": [
    {
     "data": {
      "text/plain": [
       "count     182509\n",
       "unique         2\n",
       "top         True\n",
       "freq      108677\n",
       "Name: en, dtype: object"
      ]
     },
     "execution_count": 9,
     "metadata": {},
     "output_type": "execute_result"
    }
   ],
   "source": [
    "iPhoneTweetsBefore['en'] = iPhoneTweetsBefore.apply (lambda row: getLang (row),axis=1)\n",
    "iPhoneTweetsBefore['en'].describe()"
   ]
  },
  {
   "cell_type": "code",
   "execution_count": 10,
   "metadata": {},
   "outputs": [
    {
     "data": {
      "text/plain": [
       "count     232341\n",
       "unique         2\n",
       "top         True\n",
       "freq      137791\n",
       "Name: en, dtype: object"
      ]
     },
     "execution_count": 10,
     "metadata": {},
     "output_type": "execute_result"
    }
   ],
   "source": [
    "iPhoneTweetsAfter['en'] = iPhoneTweetsAfter.apply (lambda row: getLang (row),axis=1)\n",
    "iPhoneTweetsAfter['en'].describe()"
   ]
  },
  {
   "cell_type": "markdown",
   "metadata": {},
   "source": [
    "## Sentiment Scores"
   ]
  },
  {
   "cell_type": "markdown",
   "metadata": {},
   "source": [
    "### AFINN-111 Sentiment Calculation"
   ]
  },
  {
   "cell_type": "code",
   "execution_count": 11,
   "metadata": {
    "collapsed": true
   },
   "outputs": [],
   "source": [
    "sent_file = open(\"AFINN-111.txt\")\n",
    "termScores = {}\n",
    "for line in sent_file :\n",
    "    term, score = line.split(\"\\t\")\n",
    "    termScores[term] = int(score)\n",
    "\n",
    "def afinnSentiment(row) :\n",
    "    sentimentScore = np.NaN\n",
    "    if row['text'] != np.NaN or row['text'] != None :\n",
    "        tweetText = row['text']  \n",
    "        if row['en'] :\n",
    "            tweetText = tweetText.lower()\n",
    "            sentimentScore = 0\n",
    "            for term in tweetText.split() :\n",
    "                if term in termScores.keys() :\n",
    "                    sentimentScore += termScores[term]\n",
    "    return(sentimentScore)"
   ]
  },
  {
   "cell_type": "markdown",
   "metadata": {},
   "source": [
    "### AFINN-111 Before Launch, Raw Sentiment Scores"
   ]
  },
  {
   "cell_type": "code",
   "execution_count": 12,
   "metadata": {},
   "outputs": [
    {
     "data": {
      "text/plain": [
       "count    108677.000000\n",
       "mean          0.327135\n",
       "std           1.523153\n",
       "min         -16.000000\n",
       "25%           0.000000\n",
       "50%           0.000000\n",
       "75%           0.000000\n",
       "max          17.000000\n",
       "Name: afinnSentiment, dtype: float64"
      ]
     },
     "execution_count": 12,
     "metadata": {},
     "output_type": "execute_result"
    }
   ],
   "source": [
    "iPhoneTweetsBefore['afinnSentiment'] = iPhoneTweetsBefore.apply (lambda row: afinnSentiment (row),axis=1)\n",
    "iPhoneTweetsBefore['afinnSentiment'].describe()"
   ]
  },
  {
   "cell_type": "code",
   "execution_count": 13,
   "metadata": {},
   "outputs": [
    {
     "data": {
      "text/plain": [
       "0.0"
      ]
     },
     "execution_count": 13,
     "metadata": {},
     "output_type": "execute_result"
    }
   ],
   "source": [
    "# Median\n",
    "np.nanmedian(iPhoneTweetsBefore['afinnSentiment'])"
   ]
  },
  {
   "cell_type": "code",
   "execution_count": 14,
   "metadata": {},
   "outputs": [
    {
     "data": {
      "text/plain": [
       "0.0"
      ]
     },
     "execution_count": 14,
     "metadata": {},
     "output_type": "execute_result"
    }
   ],
   "source": [
    "# Mode\n",
    "stats.mode(iPhoneTweetsBefore['afinnSentiment'])[0][0]"
   ]
  },
  {
   "cell_type": "code",
   "execution_count": 15,
   "metadata": {},
   "outputs": [
    {
     "data": {
      "text/plain": [
       "33.0"
      ]
     },
     "execution_count": 15,
     "metadata": {},
     "output_type": "execute_result"
    }
   ],
   "source": [
    "# Range\n",
    "np.ptp(iPhoneTweetsBefore['afinnSentiment'])"
   ]
  },
  {
   "cell_type": "markdown",
   "metadata": {},
   "source": [
    "### AFINN-111 After Launch, Raw Sentiment Scores"
   ]
  },
  {
   "cell_type": "code",
   "execution_count": 16,
   "metadata": {},
   "outputs": [
    {
     "data": {
      "text/plain": [
       "count    137791.000000\n",
       "mean          0.423446\n",
       "std           1.709810\n",
       "min         -27.000000\n",
       "25%           0.000000\n",
       "50%           0.000000\n",
       "75%           1.000000\n",
       "max          28.000000\n",
       "Name: afinnSentiment, dtype: float64"
      ]
     },
     "execution_count": 16,
     "metadata": {},
     "output_type": "execute_result"
    }
   ],
   "source": [
    "iPhoneTweetsAfter['afinnSentiment'] = iPhoneTweetsAfter.apply (lambda row: afinnSentiment (row),axis=1)\n",
    "iPhoneTweetsAfter['afinnSentiment'].describe()"
   ]
  },
  {
   "cell_type": "code",
   "execution_count": 17,
   "metadata": {},
   "outputs": [
    {
     "data": {
      "text/plain": [
       "0.0"
      ]
     },
     "execution_count": 17,
     "metadata": {},
     "output_type": "execute_result"
    }
   ],
   "source": [
    "# Median\n",
    "np.nanmedian(iPhoneTweetsAfter['afinnSentiment'])"
   ]
  },
  {
   "cell_type": "code",
   "execution_count": 18,
   "metadata": {},
   "outputs": [
    {
     "data": {
      "text/plain": [
       "0.0"
      ]
     },
     "execution_count": 18,
     "metadata": {},
     "output_type": "execute_result"
    }
   ],
   "source": [
    "# Mode\n",
    "stats.mode(iPhoneTweetsAfter['afinnSentiment'])[0][0]"
   ]
  },
  {
   "cell_type": "code",
   "execution_count": 19,
   "metadata": {},
   "outputs": [
    {
     "data": {
      "text/plain": [
       "55.0"
      ]
     },
     "execution_count": 19,
     "metadata": {},
     "output_type": "execute_result"
    }
   ],
   "source": [
    "# Range\n",
    "np.ptp(iPhoneTweetsAfter['afinnSentiment'])"
   ]
  },
  {
   "cell_type": "markdown",
   "metadata": {},
   "source": [
    "### AFINN-111 Chi-Square Test of Significance, Raw Sentiment Scores Before & After Launch"
   ]
  },
  {
   "cell_type": "code",
   "execution_count": 20,
   "metadata": {},
   "outputs": [
    {
     "data": {
      "text/plain": [
       "Power_divergenceResult(statistic=1.1886127335704135, pvalue=0.75573672427445537)"
      ]
     },
     "execution_count": 20,
     "metadata": {},
     "output_type": "execute_result"
    }
   ],
   "source": [
    "beforeMean = np.nanmean(iPhoneTweetsBefore['afinnSentiment'])\n",
    "afterMean = np.nanmean(iPhoneTweetsAfter['afinnSentiment'])\n",
    "\n",
    "obs = np.array([[0, 1], [beforeMean, afterMean]]).T\n",
    "obs.shape\n",
    "chisquare(obs, axis=None)"
   ]
  },
  {
   "cell_type": "markdown",
   "metadata": {},
   "source": [
    "### AFINN-111 Before Launch, Normalized Sentiment Scores"
   ]
  },
  {
   "cell_type": "code",
   "execution_count": 21,
   "metadata": {},
   "outputs": [
    {
     "data": {
      "text/html": [
       "<div>\n",
       "<style>\n",
       "    .dataframe thead tr:only-child th {\n",
       "        text-align: right;\n",
       "    }\n",
       "\n",
       "    .dataframe thead th {\n",
       "        text-align: left;\n",
       "    }\n",
       "\n",
       "    .dataframe tbody tr th {\n",
       "        vertical-align: top;\n",
       "    }\n",
       "</style>\n",
       "<table border=\"1\" class=\"dataframe\">\n",
       "  <thead>\n",
       "    <tr style=\"text-align: right;\">\n",
       "      <th></th>\n",
       "      <th>0</th>\n",
       "    </tr>\n",
       "  </thead>\n",
       "  <tbody>\n",
       "    <tr>\n",
       "      <th>count</th>\n",
       "      <td>182509.000000</td>\n",
       "    </tr>\n",
       "    <tr>\n",
       "      <th>mean</th>\n",
       "      <td>0.494762</td>\n",
       "    </tr>\n",
       "    <tr>\n",
       "      <th>std</th>\n",
       "      <td>0.035617</td>\n",
       "    </tr>\n",
       "    <tr>\n",
       "      <th>min</th>\n",
       "      <td>0.000000</td>\n",
       "    </tr>\n",
       "    <tr>\n",
       "      <th>25%</th>\n",
       "      <td>0.484848</td>\n",
       "    </tr>\n",
       "    <tr>\n",
       "      <th>50%</th>\n",
       "      <td>0.494762</td>\n",
       "    </tr>\n",
       "    <tr>\n",
       "      <th>75%</th>\n",
       "      <td>0.494762</td>\n",
       "    </tr>\n",
       "    <tr>\n",
       "      <th>max</th>\n",
       "      <td>1.000000</td>\n",
       "    </tr>\n",
       "  </tbody>\n",
       "</table>\n",
       "</div>"
      ],
      "text/plain": [
       "                   0\n",
       "count  182509.000000\n",
       "mean        0.494762\n",
       "std         0.035617\n",
       "min         0.000000\n",
       "25%         0.484848\n",
       "50%         0.494762\n",
       "75%         0.494762\n",
       "max         1.000000"
      ]
     },
     "execution_count": 21,
     "metadata": {},
     "output_type": "execute_result"
    }
   ],
   "source": [
    "x = iPhoneTweetsBefore['afinnSentiment']\n",
    "x = x.values.reshape(-1, 1)\n",
    "imp = Imputer(missing_values='NaN', strategy='mean', axis=0)\n",
    "imp.fit(x)\n",
    "x = imp.transform(x)\n",
    "min_max_scaler = preprocessing.MinMaxScaler()\n",
    "x_scaled = min_max_scaler.fit_transform(x)\n",
    "iPhoneTweetsBeforeNormalized = pandas.DataFrame(x_scaled)\n",
    "iPhoneTweetsBeforeNormalized.describe()"
   ]
  },
  {
   "cell_type": "markdown",
   "metadata": {},
   "source": [
    "### AFINN-111 After Launch, Normalized Sentiment Scores"
   ]
  },
  {
   "cell_type": "code",
   "execution_count": 22,
   "metadata": {},
   "outputs": [
    {
     "data": {
      "text/html": [
       "<div>\n",
       "<style>\n",
       "    .dataframe thead tr:only-child th {\n",
       "        text-align: right;\n",
       "    }\n",
       "\n",
       "    .dataframe thead th {\n",
       "        text-align: left;\n",
       "    }\n",
       "\n",
       "    .dataframe tbody tr th {\n",
       "        vertical-align: top;\n",
       "    }\n",
       "</style>\n",
       "<table border=\"1\" class=\"dataframe\">\n",
       "  <thead>\n",
       "    <tr style=\"text-align: right;\">\n",
       "      <th></th>\n",
       "      <th>0</th>\n",
       "    </tr>\n",
       "  </thead>\n",
       "  <tbody>\n",
       "    <tr>\n",
       "      <th>count</th>\n",
       "      <td>232341.000000</td>\n",
       "    </tr>\n",
       "    <tr>\n",
       "      <th>mean</th>\n",
       "      <td>0.498608</td>\n",
       "    </tr>\n",
       "    <tr>\n",
       "      <th>std</th>\n",
       "      <td>0.023940</td>\n",
       "    </tr>\n",
       "    <tr>\n",
       "      <th>min</th>\n",
       "      <td>0.000000</td>\n",
       "    </tr>\n",
       "    <tr>\n",
       "      <th>25%</th>\n",
       "      <td>0.490909</td>\n",
       "    </tr>\n",
       "    <tr>\n",
       "      <th>50%</th>\n",
       "      <td>0.498608</td>\n",
       "    </tr>\n",
       "    <tr>\n",
       "      <th>75%</th>\n",
       "      <td>0.498608</td>\n",
       "    </tr>\n",
       "    <tr>\n",
       "      <th>max</th>\n",
       "      <td>1.000000</td>\n",
       "    </tr>\n",
       "  </tbody>\n",
       "</table>\n",
       "</div>"
      ],
      "text/plain": [
       "                   0\n",
       "count  232341.000000\n",
       "mean        0.498608\n",
       "std         0.023940\n",
       "min         0.000000\n",
       "25%         0.490909\n",
       "50%         0.498608\n",
       "75%         0.498608\n",
       "max         1.000000"
      ]
     },
     "execution_count": 22,
     "metadata": {},
     "output_type": "execute_result"
    }
   ],
   "source": [
    "x = iPhoneTweetsAfter['afinnSentiment']\n",
    "x = x.values.reshape(-1, 1)\n",
    "imp = Imputer(missing_values='NaN', strategy='mean', axis=0)\n",
    "imp.fit(x)\n",
    "x = imp.transform(x)\n",
    "min_max_scaler = preprocessing.MinMaxScaler()\n",
    "x_scaled = min_max_scaler.fit_transform(x)\n",
    "iPhoneTweetsAfterNormalized = pandas.DataFrame(x_scaled)\n",
    "iPhoneTweetsAfterNormalized.describe()"
   ]
  },
  {
   "cell_type": "markdown",
   "metadata": {},
   "source": [
    "### AFINN-111 Chi-Square Test of Significance, Normalized Sentiment Scores Before & After Launch"
   ]
  },
  {
   "cell_type": "code",
   "execution_count": 23,
   "metadata": {},
   "outputs": [
    {
     "data": {
      "text/plain": [
       "Power_divergenceResult(statistic=1.0033630464608687, pvalue=0.80043819887815837)"
      ]
     },
     "execution_count": 23,
     "metadata": {},
     "output_type": "execute_result"
    }
   ],
   "source": [
    "beforeMean = np.nanmean(iPhoneTweetsBeforeNormalized)\n",
    "afterMean = np.nanmean(iPhoneTweetsAfterNormalized)\n",
    "\n",
    "obs = np.array([[0, 1], [beforeMean, afterMean]]).T\n",
    "obs2 = np.array([[0, 1], [beforeMean, afterMean]])\n",
    "obs.shape\n",
    "chisquare(obs, axis=None)"
   ]
  },
  {
   "cell_type": "markdown",
   "metadata": {},
   "source": [
    "# NLTK (Python Library) Vader Sentiment Calculation"
   ]
  },
  {
   "cell_type": "code",
   "execution_count": 24,
   "metadata": {
    "collapsed": true
   },
   "outputs": [],
   "source": [
    "vader = SentimentIntensityAnalyzer()\n",
    "def nltkSentiment(row) :\n",
    "    sentimentScore = np.NaN\n",
    "    if row['text'] != np.NaN or row['text'] != None :\n",
    "        tweetText = row['text']\n",
    "        if row['en'] :\n",
    "            tweetText = tweetText.lower()\n",
    "            scores = vader.polarity_scores(tweetText)\n",
    "            sentimentScore = scores['pos'] - scores['neg']\n",
    "    return(sentimentScore)"
   ]
  },
  {
   "cell_type": "markdown",
   "metadata": {},
   "source": [
    "### NLTK Before Launch, Raw Sentiment Scores"
   ]
  },
  {
   "cell_type": "code",
   "execution_count": 25,
   "metadata": {},
   "outputs": [
    {
     "data": {
      "text/plain": [
       "count    108677.000000\n",
       "mean          0.042300\n",
       "std           0.136652\n",
       "min          -0.798000\n",
       "25%           0.000000\n",
       "50%           0.000000\n",
       "75%           0.120000\n",
       "max           0.851000\n",
       "Name: nltkSentiment, dtype: float64"
      ]
     },
     "execution_count": 25,
     "metadata": {},
     "output_type": "execute_result"
    }
   ],
   "source": [
    "iPhoneTweetsBefore['nltkSentiment'] = iPhoneTweetsBefore.apply (lambda row: nltkSentiment (row), axis=1)\n",
    "iPhoneTweetsBefore['nltkSentiment'].describe()"
   ]
  },
  {
   "cell_type": "code",
   "execution_count": 26,
   "metadata": {},
   "outputs": [
    {
     "data": {
      "text/plain": [
       "0.0"
      ]
     },
     "execution_count": 26,
     "metadata": {},
     "output_type": "execute_result"
    }
   ],
   "source": [
    "# Median\n",
    "np.nanmedian(iPhoneTweetsBefore['nltkSentiment'])"
   ]
  },
  {
   "cell_type": "code",
   "execution_count": 27,
   "metadata": {},
   "outputs": [
    {
     "data": {
      "text/plain": [
       "0.0"
      ]
     },
     "execution_count": 27,
     "metadata": {},
     "output_type": "execute_result"
    }
   ],
   "source": [
    "# Mode\n",
    "stats.mode(iPhoneTweetsBefore['nltkSentiment'])[0][0]"
   ]
  },
  {
   "cell_type": "code",
   "execution_count": 28,
   "metadata": {},
   "outputs": [
    {
     "data": {
      "text/plain": [
       "1.649"
      ]
     },
     "execution_count": 28,
     "metadata": {},
     "output_type": "execute_result"
    }
   ],
   "source": [
    "# Range\n",
    "np.ptp(iPhoneTweetsBefore['nltkSentiment'])"
   ]
  },
  {
   "cell_type": "markdown",
   "metadata": {},
   "source": [
    "### NLTK After Launch, Raw Sentiment Scores"
   ]
  },
  {
   "cell_type": "code",
   "execution_count": 29,
   "metadata": {},
   "outputs": [
    {
     "data": {
      "text/plain": [
       "count    137791.000000\n",
       "mean          0.063255\n",
       "std           0.153043\n",
       "min          -0.857000\n",
       "25%           0.000000\n",
       "50%           0.000000\n",
       "75%           0.130000\n",
       "max           1.000000\n",
       "Name: nltkSentiment, dtype: float64"
      ]
     },
     "execution_count": 29,
     "metadata": {},
     "output_type": "execute_result"
    }
   ],
   "source": [
    "iPhoneTweetsAfter['nltkSentiment'] = iPhoneTweetsAfter.apply (lambda row: nltkSentiment (row), axis=1)\n",
    "iPhoneTweetsAfter['nltkSentiment'].describe()"
   ]
  },
  {
   "cell_type": "code",
   "execution_count": 30,
   "metadata": {},
   "outputs": [
    {
     "data": {
      "text/plain": [
       "0.0"
      ]
     },
     "execution_count": 30,
     "metadata": {},
     "output_type": "execute_result"
    }
   ],
   "source": [
    "# Median\n",
    "np.nanmedian(iPhoneTweetsAfter['nltkSentiment'])"
   ]
  },
  {
   "cell_type": "code",
   "execution_count": 31,
   "metadata": {},
   "outputs": [
    {
     "data": {
      "text/plain": [
       "0.0"
      ]
     },
     "execution_count": 31,
     "metadata": {},
     "output_type": "execute_result"
    }
   ],
   "source": [
    "# Mode\n",
    "stats.mode(iPhoneTweetsAfter['nltkSentiment'])[0][0]"
   ]
  },
  {
   "cell_type": "code",
   "execution_count": 32,
   "metadata": {},
   "outputs": [
    {
     "data": {
      "text/plain": [
       "1.857"
      ]
     },
     "execution_count": 32,
     "metadata": {},
     "output_type": "execute_result"
    }
   ],
   "source": [
    "# Range\n",
    "np.ptp(iPhoneTweetsAfter['nltkSentiment'])"
   ]
  },
  {
   "cell_type": "markdown",
   "metadata": {},
   "source": [
    "### NLTK Chi-Square Test of Significance, Raw Sentiment Scores Before & After Launch"
   ]
  },
  {
   "cell_type": "code",
   "execution_count": 33,
   "metadata": {},
   "outputs": [
    {
     "data": {
      "text/plain": [
       "Power_divergenceResult(statistic=2.5334882593754511, pvalue=0.4692693936842951)"
      ]
     },
     "execution_count": 33,
     "metadata": {},
     "output_type": "execute_result"
    }
   ],
   "source": [
    "beforeMean = np.nanmean(iPhoneTweetsBefore['nltkSentiment'])\n",
    "afterMean = np.nanmean(iPhoneTweetsAfter['nltkSentiment'])\n",
    "\n",
    "obs = np.array([[0, 1], [beforeMean, afterMean]]).T\n",
    "obs.shape\n",
    "chisquare(obs, axis=None)"
   ]
  },
  {
   "cell_type": "markdown",
   "metadata": {},
   "source": [
    "### NLTK Before Launch, Normalized Sentiment Scores"
   ]
  },
  {
   "cell_type": "code",
   "execution_count": 34,
   "metadata": {},
   "outputs": [
    {
     "data": {
      "text/html": [
       "<div>\n",
       "<style>\n",
       "    .dataframe thead tr:only-child th {\n",
       "        text-align: right;\n",
       "    }\n",
       "\n",
       "    .dataframe thead th {\n",
       "        text-align: left;\n",
       "    }\n",
       "\n",
       "    .dataframe tbody tr th {\n",
       "        vertical-align: top;\n",
       "    }\n",
       "</style>\n",
       "<table border=\"1\" class=\"dataframe\">\n",
       "  <thead>\n",
       "    <tr style=\"text-align: right;\">\n",
       "      <th></th>\n",
       "      <th>0</th>\n",
       "    </tr>\n",
       "  </thead>\n",
       "  <tbody>\n",
       "    <tr>\n",
       "      <th>count</th>\n",
       "      <td>182509.000000</td>\n",
       "    </tr>\n",
       "    <tr>\n",
       "      <th>mean</th>\n",
       "      <td>0.509582</td>\n",
       "    </tr>\n",
       "    <tr>\n",
       "      <th>std</th>\n",
       "      <td>0.063947</td>\n",
       "    </tr>\n",
       "    <tr>\n",
       "      <th>min</th>\n",
       "      <td>0.000000</td>\n",
       "    </tr>\n",
       "    <tr>\n",
       "      <th>25%</th>\n",
       "      <td>0.483930</td>\n",
       "    </tr>\n",
       "    <tr>\n",
       "      <th>50%</th>\n",
       "      <td>0.509582</td>\n",
       "    </tr>\n",
       "    <tr>\n",
       "      <th>75%</th>\n",
       "      <td>0.509582</td>\n",
       "    </tr>\n",
       "    <tr>\n",
       "      <th>max</th>\n",
       "      <td>1.000000</td>\n",
       "    </tr>\n",
       "  </tbody>\n",
       "</table>\n",
       "</div>"
      ],
      "text/plain": [
       "                   0\n",
       "count  182509.000000\n",
       "mean        0.509582\n",
       "std         0.063947\n",
       "min         0.000000\n",
       "25%         0.483930\n",
       "50%         0.509582\n",
       "75%         0.509582\n",
       "max         1.000000"
      ]
     },
     "execution_count": 34,
     "metadata": {},
     "output_type": "execute_result"
    }
   ],
   "source": [
    "x = iPhoneTweetsBefore['nltkSentiment'].copy()\n",
    "x = x.values.reshape(-1, 1)\n",
    "imp = Imputer(missing_values='NaN', strategy='mean', axis=0)\n",
    "imp.fit(x)\n",
    "x = imp.transform(x)\n",
    "min_max_scaler = preprocessing.MinMaxScaler()\n",
    "x_scaled = min_max_scaler.fit_transform(x)\n",
    "iPhoneTweetsBeforeNormalized = pandas.DataFrame(x_scaled)\n",
    "iPhoneTweetsBeforeNormalized.describe()"
   ]
  },
  {
   "cell_type": "markdown",
   "metadata": {},
   "source": [
    "### NLTK After Launch, Normalized Sentiment Scores"
   ]
  },
  {
   "cell_type": "code",
   "execution_count": 35,
   "metadata": {},
   "outputs": [
    {
     "data": {
      "text/html": [
       "<div>\n",
       "<style>\n",
       "    .dataframe thead tr:only-child th {\n",
       "        text-align: right;\n",
       "    }\n",
       "\n",
       "    .dataframe thead th {\n",
       "        text-align: left;\n",
       "    }\n",
       "\n",
       "    .dataframe tbody tr th {\n",
       "        vertical-align: top;\n",
       "    }\n",
       "</style>\n",
       "<table border=\"1\" class=\"dataframe\">\n",
       "  <thead>\n",
       "    <tr style=\"text-align: right;\">\n",
       "      <th></th>\n",
       "      <th>0</th>\n",
       "    </tr>\n",
       "  </thead>\n",
       "  <tbody>\n",
       "    <tr>\n",
       "      <th>count</th>\n",
       "      <td>232341.000000</td>\n",
       "    </tr>\n",
       "    <tr>\n",
       "      <th>mean</th>\n",
       "      <td>0.495560</td>\n",
       "    </tr>\n",
       "    <tr>\n",
       "      <th>std</th>\n",
       "      <td>0.063467</td>\n",
       "    </tr>\n",
       "    <tr>\n",
       "      <th>min</th>\n",
       "      <td>0.000000</td>\n",
       "    </tr>\n",
       "    <tr>\n",
       "      <th>25%</th>\n",
       "      <td>0.461497</td>\n",
       "    </tr>\n",
       "    <tr>\n",
       "      <th>50%</th>\n",
       "      <td>0.495560</td>\n",
       "    </tr>\n",
       "    <tr>\n",
       "      <th>75%</th>\n",
       "      <td>0.504039</td>\n",
       "    </tr>\n",
       "    <tr>\n",
       "      <th>max</th>\n",
       "      <td>1.000000</td>\n",
       "    </tr>\n",
       "  </tbody>\n",
       "</table>\n",
       "</div>"
      ],
      "text/plain": [
       "                   0\n",
       "count  232341.000000\n",
       "mean        0.495560\n",
       "std         0.063467\n",
       "min         0.000000\n",
       "25%         0.461497\n",
       "50%         0.495560\n",
       "75%         0.504039\n",
       "max         1.000000"
      ]
     },
     "execution_count": 35,
     "metadata": {},
     "output_type": "execute_result"
    }
   ],
   "source": [
    "x = iPhoneTweetsAfter['nltkSentiment'].copy()\n",
    "x = x.values.reshape(-1, 1)\n",
    "imp = Imputer(missing_values='NaN', strategy='mean', axis=0)\n",
    "imp.fit(x)\n",
    "x = imp.transform(x)\n",
    "min_max_scaler = preprocessing.MinMaxScaler()\n",
    "x_scaled = min_max_scaler.fit_transform(x)\n",
    "iPhoneTweetsAfterNormalized = pandas.DataFrame(x_scaled)\n",
    "iPhoneTweetsAfterNormalized.describe()\n"
   ]
  },
  {
   "cell_type": "markdown",
   "metadata": {},
   "source": [
    "### NLTK Chi-Square Test of Significance, Normalized Sentiment Scores Before & After Launch"
   ]
  },
  {
   "cell_type": "code",
   "execution_count": 36,
   "metadata": {},
   "outputs": [
    {
     "data": {
      "text/plain": [
       "Power_divergenceResult(statistic=0.99764510686765828, pvalue=0.80182177183496139)"
      ]
     },
     "execution_count": 36,
     "metadata": {},
     "output_type": "execute_result"
    }
   ],
   "source": [
    "beforeMean = np.nanmean(iPhoneTweetsBeforeNormalized)\n",
    "afterMean = np.nanmean(iPhoneTweetsAfterNormalized)\n",
    "\n",
    "obs = np.array([[0, 1], [beforeMean, afterMean]]).T\n",
    "obs.shape\n",
    "chisquare(obs, axis=None)"
   ]
  },
  {
   "cell_type": "markdown",
   "metadata": {},
   "source": [
    "## Saves files to CSV"
   ]
  },
  {
   "cell_type": "code",
   "execution_count": 46,
   "metadata": {
    "collapsed": true
   },
   "outputs": [],
   "source": [
    "header = ['date', 'dates', 'nltkSentiment', 'afinnSentiment']\n",
    "iPhoneTweetsAfter.to_csv(\"after.csv\", columns = header, header = True)\n",
    "\n",
    "iPhoneTweetsBefore.to_csv(\"before.csv\", columns = header, header = True)\n",
    "\n",
    "both = pandas.concat([iPhoneTweetsAfter, iPhoneTweetsBefore])\n",
    "both.to_csv(\"both.csv\", columns = header, header = True)\n"
   ]
  },
  {
   "cell_type": "code",
   "execution_count": 47,
   "metadata": {
    "collapsed": true
   },
   "outputs": [],
   "source": [
    "beforeMean = np.nanmean(iPhoneTweetsBefore['nltkSentiment'])\n",
    "afterMean = np.nanmean(iPhoneTweetsAfter['nltkSentiment'])\n",
    "nltk_BA = pandas.DataFrame([[0, 1], [beforeMean, afterMean]])\n",
    "nltk_BA.to_csv(\"nltk_BA.csv\", header = True)"
   ]
  },
  {
   "cell_type": "code",
   "execution_count": 48,
   "metadata": {
    "collapsed": true
   },
   "outputs": [],
   "source": [
    "beforeMean = np.nanmean(iPhoneTweetsBefore['afinnSentiment'])\n",
    "afterMean = np.nanmean(iPhoneTweetsAfter['afinnSentiment'])\n",
    "afinn_BA = pandas.DataFrame([[0, 1], [beforeMean, afterMean]])\n",
    "afinn_BA.to_csv(\"afinn_BA.csv\", header = True)"
   ]
  }
 ],
 "metadata": {
  "kernelspec": {
   "display_name": "Python 3",
   "language": "python",
   "name": "python3"
  },
  "language_info": {
   "codemirror_mode": {
    "name": "ipython",
    "version": 3
   },
   "file_extension": ".py",
   "mimetype": "text/x-python",
   "name": "python",
   "nbconvert_exporter": "python",
   "pygments_lexer": "ipython3",
   "version": "3.6.3"
  }
 },
 "nbformat": 4,
 "nbformat_minor": 2
}
